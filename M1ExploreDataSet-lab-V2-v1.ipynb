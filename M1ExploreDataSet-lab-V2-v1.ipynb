{
 "cells": [
  {
   "cell_type": "markdown",
   "id": "89bfa067-56b6-4d3e-a97a-c66addd39c4a",
   "metadata": {},
   "source": [
    "<p style=\"text-align:center\">\n",
    "    <a href=\"https://skills.network\" target=\"_blank\">\n",
    "    <img src=\"https://cf-courses-data.s3.us.cloud-object-storage.appdomain.cloud/assets/logos/SN_web_lightmode.png\" width=\"200\" alt=\"Skills Network Logo\"  />\n",
    "    </a>\n",
    "</p>\n"
   ]
  },
  {
   "cell_type": "markdown",
   "id": "76d119a8-428d-4afb-bb94-197b0c06855b",
   "metadata": {},
   "source": [
    "# **Lab: Exploring the Dataset**\n"
   ]
  },
  {
   "cell_type": "markdown",
   "id": "aa243b43-06a8-4e77-85ee-852eb34b6320",
   "metadata": {},
   "source": [
    "Estimated time needed: **30** minutes\n"
   ]
  },
  {
   "cell_type": "markdown",
   "id": "64004590-bf67-4bea-a15f-b73e39df1291",
   "metadata": {},
   "source": [
    "## Introduction\n"
   ]
  },
  {
   "cell_type": "markdown",
   "id": "18cd8a50-a2e6-45d1-afa4-478c9d57c203",
   "metadata": {},
   "source": [
    "Data exploration is the initial phase of data analysis where we aim to understand the data's characteristics, identify patterns, and uncover potential insights. It is a crucial step that helps us make informed decisions about subsequent analysis.\n"
   ]
  },
  {
   "cell_type": "markdown",
   "id": "df168251-baa2-4206-852f-d2dcbc1ac64d",
   "metadata": {},
   "source": [
    "## Objectives\n"
   ]
  },
  {
   "cell_type": "markdown",
   "id": "46d5ecb9-e0d4-4092-b6e5-4c09d2434d3c",
   "metadata": {},
   "source": [
    "After completing this lab, you will be able to:\n"
   ]
  },
  {
   "cell_type": "markdown",
   "id": "1153cb0c-00af-43e8-a987-e99b2d0f6d5c",
   "metadata": {},
   "source": [
    "-   Summarize the key characteristics of a dataset.\n",
    "-   Identify different data types commonly used in data analysis.\n"
   ]
  },
  {
   "cell_type": "markdown",
   "id": "e60f9752-5938-419b-b51e-e5bf0841f140",
   "metadata": {},
   "source": [
    "## Load the dataset\n"
   ]
  },
  {
   "cell_type": "markdown",
   "id": "bf53d08e-bf58-49ce-8953-bb761f102c3e",
   "metadata": {},
   "source": [
    "Import the required libraries.\n"
   ]
  },
  {
   "cell_type": "code",
   "execution_count": 19,
   "id": "16412d09-4bb0-46c1-bb2d-97036a6ed9bd",
   "metadata": {},
   "outputs": [],
   "source": [
    "import pandas as pd"
   ]
  },
  {
   "cell_type": "markdown",
   "id": "848f49cf-f61b-4aad-ae04-3267f0c6c797",
   "metadata": {},
   "source": [
    "The dataset is available on the IBM Cloud at the below url.\n"
   ]
  },
  {
   "cell_type": "code",
   "execution_count": 20,
   "id": "a0953716-5679-4261-9f2f-f55594b39822",
   "metadata": {},
   "outputs": [],
   "source": [
    "dataset_url = \"https://cf-courses-data.s3.us.cloud-object-storage.appdomain.cloud/IBM-DA0321EN-SkillsNetwork/LargeData/m1_survey_data.csv\""
   ]
  },
  {
   "cell_type": "markdown",
   "id": "23cd4740-8a85-4a5d-b370-bd78242c527b",
   "metadata": {},
   "source": [
    "Load the data available at dataset_url into a dataframe.\n"
   ]
  },
  {
   "cell_type": "code",
   "execution_count": 21,
   "id": "3d0a3e50-ba3c-45eb-8b7c-a2f37878560c",
   "metadata": {},
   "outputs": [],
   "source": [
    "## Write your code here\n",
    "df = pd.read_csv(dataset_url)"
   ]
  },
  {
   "cell_type": "markdown",
   "id": "51069905-ea7c-4ac5-9e62-d35d4b86296c",
   "metadata": {},
   "source": [
    "## Explore the dataset\n"
   ]
  },
  {
   "cell_type": "markdown",
   "id": "cfc080f2-2dd9-45cc-a80a-61ac90a9ac76",
   "metadata": {},
   "source": [
    "It is a good idea to print the top 5 rows of the dataset to get a feel of how the dataset will look.\n"
   ]
  },
  {
   "cell_type": "markdown",
   "id": "b0c5d7ac-5ff4-408c-bc24-e90785a8cd0f",
   "metadata": {},
   "source": [
    "Display the top 5 rows and columns from your dataset.\n"
   ]
  },
  {
   "cell_type": "code",
   "execution_count": 22,
   "id": "b1d46fea-59ff-4bb2-9df3-a9e45b03aab2",
   "metadata": {},
   "outputs": [
    {
     "data": {
      "application/vnd.microsoft.datawrangler.viewer.v0+json": {
       "columns": [
        {
         "name": "index",
         "rawType": "int64",
         "type": "integer"
        },
        {
         "name": "Respondent",
         "rawType": "int64",
         "type": "integer"
        },
        {
         "name": "MainBranch",
         "rawType": "object",
         "type": "string"
        },
        {
         "name": "Hobbyist",
         "rawType": "object",
         "type": "string"
        },
        {
         "name": "OpenSourcer",
         "rawType": "object",
         "type": "string"
        },
        {
         "name": "OpenSource",
         "rawType": "object",
         "type": "string"
        },
        {
         "name": "Employment",
         "rawType": "object",
         "type": "string"
        },
        {
         "name": "Country",
         "rawType": "object",
         "type": "string"
        },
        {
         "name": "Student",
         "rawType": "object",
         "type": "string"
        },
        {
         "name": "EdLevel",
         "rawType": "object",
         "type": "string"
        },
        {
         "name": "UndergradMajor",
         "rawType": "object",
         "type": "unknown"
        },
        {
         "name": "EduOther",
         "rawType": "object",
         "type": "string"
        },
        {
         "name": "OrgSize",
         "rawType": "object",
         "type": "string"
        },
        {
         "name": "DevType",
         "rawType": "object",
         "type": "string"
        },
        {
         "name": "YearsCode",
         "rawType": "object",
         "type": "string"
        },
        {
         "name": "Age1stCode",
         "rawType": "object",
         "type": "string"
        },
        {
         "name": "YearsCodePro",
         "rawType": "object",
         "type": "string"
        },
        {
         "name": "CareerSat",
         "rawType": "object",
         "type": "string"
        },
        {
         "name": "JobSat",
         "rawType": "object",
         "type": "string"
        },
        {
         "name": "MgrIdiot",
         "rawType": "object",
         "type": "unknown"
        },
        {
         "name": "MgrMoney",
         "rawType": "object",
         "type": "unknown"
        },
        {
         "name": "MgrWant",
         "rawType": "object",
         "type": "unknown"
        },
        {
         "name": "JobSeek",
         "rawType": "object",
         "type": "string"
        },
        {
         "name": "LastHireDate",
         "rawType": "object",
         "type": "string"
        },
        {
         "name": "LastInt",
         "rawType": "object",
         "type": "string"
        },
        {
         "name": "FizzBuzz",
         "rawType": "object",
         "type": "string"
        },
        {
         "name": "JobFactors",
         "rawType": "object",
         "type": "string"
        },
        {
         "name": "ResumeUpdate",
         "rawType": "object",
         "type": "string"
        },
        {
         "name": "CurrencySymbol",
         "rawType": "object",
         "type": "string"
        },
        {
         "name": "CurrencyDesc",
         "rawType": "object",
         "type": "string"
        },
        {
         "name": "CompTotal",
         "rawType": "float64",
         "type": "float"
        },
        {
         "name": "CompFreq",
         "rawType": "object",
         "type": "string"
        },
        {
         "name": "ConvertedComp",
         "rawType": "float64",
         "type": "float"
        },
        {
         "name": "WorkWeekHrs",
         "rawType": "float64",
         "type": "float"
        },
        {
         "name": "WorkPlan",
         "rawType": "object",
         "type": "string"
        },
        {
         "name": "WorkChallenge",
         "rawType": "object",
         "type": "unknown"
        },
        {
         "name": "WorkRemote",
         "rawType": "object",
         "type": "string"
        },
        {
         "name": "WorkLoc",
         "rawType": "object",
         "type": "string"
        },
        {
         "name": "ImpSyn",
         "rawType": "object",
         "type": "string"
        },
        {
         "name": "CodeRev",
         "rawType": "object",
         "type": "string"
        },
        {
         "name": "CodeRevHrs",
         "rawType": "float64",
         "type": "float"
        },
        {
         "name": "UnitTests",
         "rawType": "object",
         "type": "string"
        },
        {
         "name": "PurchaseHow",
         "rawType": "object",
         "type": "string"
        },
        {
         "name": "PurchaseWhat",
         "rawType": "object",
         "type": "string"
        },
        {
         "name": "LanguageWorkedWith",
         "rawType": "object",
         "type": "string"
        },
        {
         "name": "LanguageDesireNextYear",
         "rawType": "object",
         "type": "string"
        },
        {
         "name": "DatabaseWorkedWith",
         "rawType": "object",
         "type": "string"
        },
        {
         "name": "DatabaseDesireNextYear",
         "rawType": "object",
         "type": "string"
        },
        {
         "name": "PlatformWorkedWith",
         "rawType": "object",
         "type": "unknown"
        },
        {
         "name": "PlatformDesireNextYear",
         "rawType": "object",
         "type": "string"
        },
        {
         "name": "WebFrameWorkedWith",
         "rawType": "object",
         "type": "unknown"
        },
        {
         "name": "WebFrameDesireNextYear",
         "rawType": "object",
         "type": "unknown"
        },
        {
         "name": "MiscTechWorkedWith",
         "rawType": "object",
         "type": "string"
        },
        {
         "name": "MiscTechDesireNextYear",
         "rawType": "object",
         "type": "string"
        },
        {
         "name": "DevEnviron",
         "rawType": "object",
         "type": "string"
        },
        {
         "name": "OpSys",
         "rawType": "object",
         "type": "string"
        },
        {
         "name": "Containers",
         "rawType": "object",
         "type": "string"
        },
        {
         "name": "BlockchainOrg",
         "rawType": "object",
         "type": "string"
        },
        {
         "name": "BlockchainIs",
         "rawType": "object",
         "type": "string"
        },
        {
         "name": "BetterLife",
         "rawType": "object",
         "type": "string"
        },
        {
         "name": "ITperson",
         "rawType": "object",
         "type": "string"
        },
        {
         "name": "OffOn",
         "rawType": "object",
         "type": "string"
        },
        {
         "name": "SocialMedia",
         "rawType": "object",
         "type": "string"
        },
        {
         "name": "Extraversion",
         "rawType": "object",
         "type": "string"
        },
        {
         "name": "ScreenName",
         "rawType": "object",
         "type": "unknown"
        },
        {
         "name": "SOVisit1st",
         "rawType": "object",
         "type": "string"
        },
        {
         "name": "SOVisitFreq",
         "rawType": "object",
         "type": "string"
        },
        {
         "name": "SOVisitTo",
         "rawType": "object",
         "type": "string"
        },
        {
         "name": "SOFindAnswer",
         "rawType": "object",
         "type": "string"
        },
        {
         "name": "SOTimeSaved",
         "rawType": "object",
         "type": "string"
        },
        {
         "name": "SOHowMuchTime",
         "rawType": "object",
         "type": "unknown"
        },
        {
         "name": "SOAccount",
         "rawType": "object",
         "type": "string"
        },
        {
         "name": "SOPartFreq",
         "rawType": "object",
         "type": "string"
        },
        {
         "name": "SOJobs",
         "rawType": "object",
         "type": "string"
        },
        {
         "name": "EntTeams",
         "rawType": "object",
         "type": "string"
        },
        {
         "name": "SOComm",
         "rawType": "object",
         "type": "string"
        },
        {
         "name": "WelcomeChange",
         "rawType": "object",
         "type": "string"
        },
        {
         "name": "SONewContent",
         "rawType": "object",
         "type": "unknown"
        },
        {
         "name": "Age",
         "rawType": "float64",
         "type": "float"
        },
        {
         "name": "Gender",
         "rawType": "object",
         "type": "string"
        },
        {
         "name": "Trans",
         "rawType": "object",
         "type": "string"
        },
        {
         "name": "Sexuality",
         "rawType": "object",
         "type": "string"
        },
        {
         "name": "Ethnicity",
         "rawType": "object",
         "type": "string"
        },
        {
         "name": "Dependents",
         "rawType": "object",
         "type": "string"
        },
        {
         "name": "SurveyLength",
         "rawType": "object",
         "type": "string"
        },
        {
         "name": "SurveyEase",
         "rawType": "object",
         "type": "string"
        }
       ],
       "conversionMethod": "pd.DataFrame",
       "ref": "4886c810-d5e8-4996-b768-4216e61d0f93",
       "rows": [
        [
         "0",
         "4",
         "I am a developer by profession",
         "No",
         "Never",
         "The quality of OSS and closed source software is about the same",
         "Employed full-time",
         "United States",
         "No",
         "Bachelor’s degree (BA, BS, B.Eng., etc.)",
         "Computer science, computer engineering, or software engineering",
         "Taken an online course in programming or software development (e.g. a MOOC);Received on-the-job training in software development;Taught yourself a new language, framework, or tool without taking a formal course",
         "100 to 499 employees",
         "Developer, full-stack",
         "3",
         "16",
         "Less than 1 year",
         "Very satisfied",
         "Slightly satisfied",
         "Very confident",
         "No",
         "Not sure",
         "I am not interested in new job opportunities",
         "Less than a year ago",
         "Write code by hand (e.g., on a whiteboard);Interview with people in senior / management roles",
         "No",
         "Languages, frameworks, and other technologies I'd be working with;Office environment or company culture;Opportunities for professional development",
         "I was preparing for a job search",
         "USD",
         "United States dollar",
         "61000.0",
         "Yearly",
         "61000.0",
         "80.0",
         "There's no schedule or spec; I work on what seems most important or urgent",
         null,
         "Less than once per month / Never",
         "Home",
         "A little below average",
         "No",
         null,
         "No, but I think we should",
         "Developers typically have the most influence on purchasing new technology",
         "I have little or no influence",
         "C;C++;C#;Python;SQL",
         "C;C#;JavaScript;SQL",
         "MySQL;SQLite",
         "MySQL;SQLite",
         "Linux;Windows",
         "Linux;Windows",
         null,
         null,
         ".NET",
         ".NET",
         "Eclipse;Vim;Visual Studio;Visual Studio Code",
         "Windows",
         "I do not use containers",
         "Not at all",
         "Useful for decentralized currency (i.e., Bitcoin)",
         "Yes",
         "SIGH",
         "Yes",
         "Reddit",
         "In real life (in person)",
         "Username",
         "2014",
         "Daily or almost daily",
         "Find answers to specific questions;Pass the time / relax",
         "1-2 times per week",
         "Stack Overflow was much faster",
         "31-60 minutes",
         "Yes",
         "Less than once per month or monthly",
         "Yes",
         "No, and I don't know what those are",
         "No, not really",
         "Just as welcome now as I felt last year",
         "Tech articles written by other developers;Industry news about technologies you're interested in;Tech meetups or events in your area;Courses on technologies you're interested in",
         "22.0",
         "Man",
         "No",
         "Straight / Heterosexual",
         "White or of European descent",
         "No",
         "Appropriate in length",
         "Easy"
        ],
        [
         "1",
         "9",
         "I am a developer by profession",
         "Yes",
         "Once a month or more often",
         "The quality of OSS and closed source software is about the same",
         "Employed full-time",
         "New Zealand",
         "No",
         "Some college/university study without earning a degree",
         "Computer science, computer engineering, or software engineering",
         "Taken an online course in programming or software development (e.g. a MOOC);Participated in a full-time developer training program or bootcamp;Taken a part-time in-person course in programming or software development;Received on-the-job training in software development;Taught yourself a new language, framework, or tool without taking a formal course;Participated in online coding competitions (e.g. HackerRank, CodeChef, TopCoder);Contributed to open source software",
         "10 to 19 employees",
         "Database administrator;Developer, back-end;Developer, front-end;Developer, full-stack;Developer, QA or test;DevOps specialist",
         "12",
         "11",
         "4",
         "Slightly satisfied",
         "Slightly satisfied",
         "Somewhat confident",
         "No",
         "Not sure",
         "I’m not actively looking, but I am open to new opportunities",
         "Less than a year ago",
         "Write any code;Interview with people in peer roles;Interview with people in senior / management roles",
         "Yes",
         "Financial performance or funding status of the company or organization;Office environment or company culture;How widely used or impactful my work output would be",
         "I was preparing for a job search",
         "NZD",
         "New Zealand dollar",
         "138000.0",
         "Yearly",
         "95179.0",
         "32.0",
         "There is a schedule and/or spec (made by me or by a colleague), and my work somewhat aligns",
         "Being tasked with non-development work;Inadequate access to necessary tools;Not enough people for the workload",
         "Less than once per month / Never",
         "Office",
         "A little above average",
         "Yes, because I see value in code review",
         "12.0",
         "Yes, it's not part of our process but the developers do it on their own",
         "Not sure",
         "I have some influence",
         "Bash/Shell/PowerShell;C#;HTML/CSS;JavaScript;Python;Ruby;Rust;SQL;TypeScript;WebAssembly;Other(s):",
         "Bash/Shell/PowerShell;C;HTML/CSS;JavaScript;Ruby;Rust;SQL;TypeScript;WebAssembly;Other(s):",
         "DynamoDB;PostgreSQL;SQLite",
         "PostgreSQL;Redis;SQLite",
         "AWS;Docker;Heroku;Linux;MacOS;Slack",
         "AWS;Docker;Heroku;Linux;MacOS;Slack;Other(s):",
         "Express;Ruby on Rails;Other(s):",
         "Express;Ruby on Rails;Other(s):",
         "Node.js;Unity 3D",
         "Node.js",
         "Vim",
         "MacOS",
         "Development;Testing;Production",
         "Not at all",
         "An irresponsible use of resources",
         "No",
         "SIGH",
         "Yes",
         "Twitter",
         "In real life (in person)",
         "Username",
         "2013",
         "Daily or almost daily",
         "Find answers to specific questions;Contribute to a library of information",
         "3-5 times per week",
         "They were about the same",
         null,
         "Yes",
         "Less than once per month or monthly",
         "No, I knew that Stack Overflow had a job board but have never used or visited it",
         "No, and I don't know what those are",
         "Yes, somewhat",
         "Just as welcome now as I felt last year",
         null,
         "23.0",
         "Man",
         "No",
         "Bisexual",
         "White or of European descent",
         "No",
         "Appropriate in length",
         "Neither easy nor difficult"
        ],
        [
         "2",
         "13",
         "I am a developer by profession",
         "Yes",
         "Less than once a month but more than once per year",
         "OSS is, on average, of HIGHER quality than proprietary / closed source software",
         "Employed full-time",
         "United States",
         "No",
         "Master’s degree (MA, MS, M.Eng., MBA, etc.)",
         "Computer science, computer engineering, or software engineering",
         "Taken an online course in programming or software development (e.g. a MOOC);Received on-the-job training in software development;Taught yourself a new language, framework, or tool without taking a formal course;Participated in online coding competitions (e.g. HackerRank, CodeChef, TopCoder);Participated in a hackathon;Contributed to open source software",
         "10 to 19 employees",
         "Data or business analyst;Database administrator;Developer, back-end;Developer, desktop or enterprise applications;Developer, front-end;Developer, full-stack;Developer, mobile;DevOps specialist;Engineer, data;Engineer, site reliability;Engineering manager;Senior executive/VP;System administrator",
         "17",
         "11",
         "8",
         "Very satisfied",
         "Very satisfied",
         null,
         null,
         null,
         "I am not interested in new job opportunities",
         "3-4 years ago",
         "Complete a take-home project;Interview with people in peer roles;Interview with people in senior / management roles",
         "Yes",
         "Languages, frameworks, and other technologies I'd be working with;Remote work options;Flex time or a flexible schedule",
         "I was preparing for a job search",
         "USD",
         "United States dollar",
         "90000.0",
         "Yearly",
         "90000.0",
         "40.0",
         "There is a schedule and/or spec (made by me or by a colleague), and I follow it very closely",
         "Meetings;Non-work commitments (parenting, school work, hobbies, etc.);Not enough people for the workload",
         "All or almost all the time (I'm full-time remote)",
         "Home",
         "A little above average",
         "Yes, because I see value in code review",
         "5.0",
         "No, but I think we should",
         "Developers and management have nearly equal input into purchasing new technology",
         "I have a great deal of influence",
         "Bash/Shell/PowerShell;HTML/CSS;JavaScript;PHP;SQL;TypeScript",
         "Bash/Shell/PowerShell;HTML/CSS;JavaScript;Rust;SQL;TypeScript;WebAssembly",
         "Couchbase;DynamoDB;Firebase;MySQL",
         "Firebase;MySQL;Redis",
         "Android;AWS;Docker;IBM Cloud or Watson;iOS;Linux;MacOS;Microsoft Azure;Slack;Windows;WordPress",
         "Android;AWS;Docker;IBM Cloud or Watson;Linux;Slack;Windows;WordPress",
         "Angular/Angular.js;ASP.NET;Express;jQuery;Vue.js",
         "Express;Vue.js",
         "Node.js;Xamarin",
         "Node.js;TensorFlow",
         "Vim;Visual Studio;Visual Studio Code;Xcode",
         "Windows",
         "Development;Testing;Production",
         "Not at all",
         "Useful for decentralized currency (i.e., Bitcoin)",
         "Yes",
         "Yes",
         "Yes",
         "Twitter",
         "In real life (in person)",
         "Username",
         "2011",
         "Multiple times per day",
         "Find answers to specific questions",
         "More than 10 times per week",
         "Stack Overflow was much faster",
         "11-30 minutes",
         "Yes",
         "Less than once per month or monthly",
         "Yes",
         "No, I've heard of them, but I am not part of a private Q&A instance",
         "Neutral",
         "Somewhat more welcome now than last year",
         "Tech articles written by other developers;Courses on technologies you're interested in",
         "28.0",
         "Man",
         "No",
         "Straight / Heterosexual",
         "White or of European descent",
         "Yes",
         "Appropriate in length",
         "Easy"
        ],
        [
         "3",
         "16",
         "I am a developer by profession",
         "Yes",
         "Never",
         "The quality of OSS and closed source software is about the same",
         "Employed full-time",
         "United Kingdom",
         "No",
         "Master’s degree (MA, MS, M.Eng., MBA, etc.)",
         null,
         "Taken an online course in programming or software development (e.g. a MOOC);Taught yourself a new language, framework, or tool without taking a formal course",
         "100 to 499 employees",
         "Developer, full-stack",
         "10",
         "17",
         "3",
         "Very satisfied",
         "Slightly satisfied",
         "Somewhat confident",
         "No",
         "No",
         "I’m not actively looking, but I am open to new opportunities",
         "3-4 years ago",
         "Interview with people in senior / management roles",
         "Yes",
         "Languages, frameworks, and other technologies I'd be working with;Remote work options;Flex time or a flexible schedule",
         "I heard about a job opportunity (from a recruiter, online job posting, etc.)",
         "GBP",
         "Pound sterling",
         "29000.0",
         "Monthly",
         "455352.0",
         "40.0",
         "There is a schedule and/or spec (made by me or by a colleague), and my work somewhat aligns",
         "Being tasked with non-development work;Distracting work environment;Meetings",
         "A few days each month",
         "Home",
         "Average",
         "No",
         null,
         "No, but I think we should",
         "Developers and management have nearly equal input into purchasing new technology",
         "I have some influence",
         "Bash/Shell/PowerShell;C#;HTML/CSS;JavaScript;TypeScript;VBA",
         "C#;HTML/CSS;JavaScript;TypeScript;WebAssembly;Other(s):",
         "MongoDB;Microsoft SQL Server;MySQL",
         "Elasticsearch;MongoDB;Microsoft SQL Server;SQLite",
         null,
         "AWS;Google Cloud Platform;Microsoft Azure",
         "Angular/Angular.js;ASP.NET;jQuery",
         "Angular/Angular.js;ASP.NET;React.js",
         ".NET;.NET Core;Node.js",
         ".NET Core;Node.js;React Native",
         "Visual Studio;Visual Studio Code",
         "Windows",
         "I do not use containers",
         "Not at all",
         "A passing fad",
         "No",
         "SIGH",
         "No",
         "YouTube",
         "Online",
         "Username",
         "2010",
         "Multiple times per day",
         "Find answers to specific questions;Learn how to do things I didn’t necessarily look for",
         "Less than once per week",
         "Stack Overflow was much faster",
         "11-30 minutes",
         "Yes",
         "Less than once per month or monthly",
         "Yes",
         "No, I've heard of them, but I am not part of a private Q&A instance",
         "Yes, somewhat",
         "Just as welcome now as I felt last year",
         "Tech articles written by other developers;Industry news about technologies you're interested in",
         "26.0",
         "Man",
         "No",
         "Straight / Heterosexual",
         "White or of European descent",
         "No",
         "Appropriate in length",
         "Neither easy nor difficult"
        ],
        [
         "4",
         "17",
         "I am a developer by profession",
         "Yes",
         "Less than once a month but more than once per year",
         "The quality of OSS and closed source software is about the same",
         "Employed full-time",
         "Australia",
         "No",
         "Bachelor’s degree (BA, BS, B.Eng., etc.)",
         "Computer science, computer engineering, or software engineering",
         "Taken an online course in programming or software development (e.g. a MOOC);Received on-the-job training in software development;Taught yourself a new language, framework, or tool without taking a formal course;Participated in online coding competitions (e.g. HackerRank, CodeChef, TopCoder)",
         "20 to 99 employees",
         "Developer, back-end;Developer, front-end;Developer, full-stack;Student",
         "5",
         "18",
         "2",
         "Slightly satisfied",
         "Neither satisfied nor dissatisfied",
         "Somewhat confident",
         "No",
         "No",
         "I am actively looking for a job",
         "Less than a year ago",
         "Complete a take-home project;Interview with people in senior / management roles",
         "No",
         "Languages, frameworks, and other technologies I'd be working with;Office environment or company culture;Opportunities for professional development",
         "I was preparing for a job search",
         "AUD",
         "Australian dollar",
         "90000.0",
         "Yearly",
         "65277.0",
         "45.0",
         "There's no schedule or spec; I work on what seems most important or urgent",
         "Distracting work environment;Meetings;Time spent commuting",
         "A few days each month",
         "Other place, such as a coworking space or cafe",
         "A little above average",
         "Yes, because I see value in code review",
         "5.0",
         "Yes, it's part of our process",
         "Developers typically have the most influence on purchasing new technology",
         "I have little or no influence",
         "Bash/Shell/PowerShell;HTML/CSS;JavaScript;TypeScript",
         "Bash/Shell/PowerShell;HTML/CSS;Java;JavaScript;TypeScript;WebAssembly",
         "MongoDB;PostgreSQL",
         "Elasticsearch;Firebase;MongoDB;PostgreSQL",
         "Arduino;Docker;Heroku;Raspberry Pi;WordPress",
         "Docker",
         "Angular/Angular.js;Express;Spring",
         "Angular/Angular.js;Express;React.js;Spring;Vue.js",
         "Node.js",
         "Node.js;React Native",
         "IntelliJ;Visual Studio Code",
         "Linux-based",
         "Development;Testing;Production;Outside of work, for personal projects",
         "Not at all",
         "A passing fad",
         "Yes",
         "Fortunately, someone else has that title",
         "What?",
         "YouTube",
         "In real life (in person)",
         null,
         "2014",
         "Daily or almost daily",
         "Find answers to specific questions;Learn how to do things I didn’t necessarily look for;Get a sense of belonging to the developer community",
         "6-10 times per week",
         "Stack Overflow was slightly faster",
         "0-10 minutes",
         "Yes",
         "A few times per week",
         "No, I didn't know that Stack Overflow had a job board",
         "No, I've heard of them, but I am not part of a private Q&A instance",
         "Yes, somewhat",
         "Just as welcome now as I felt last year",
         "Tech articles written by other developers;Industry news about technologies you're interested in;Tech meetups or events in your area;Courses on technologies you're interested in",
         "29.0",
         "Man",
         "No",
         "Straight / Heterosexual",
         "Hispanic or Latino/Latina;Multiracial",
         "No",
         "Appropriate in length",
         "Easy"
        ]
       ],
       "shape": {
        "columns": 85,
        "rows": 5
       }
      },
      "text/html": [
       "<div>\n",
       "<style scoped>\n",
       "    .dataframe tbody tr th:only-of-type {\n",
       "        vertical-align: middle;\n",
       "    }\n",
       "\n",
       "    .dataframe tbody tr th {\n",
       "        vertical-align: top;\n",
       "    }\n",
       "\n",
       "    .dataframe thead th {\n",
       "        text-align: right;\n",
       "    }\n",
       "</style>\n",
       "<table border=\"1\" class=\"dataframe\">\n",
       "  <thead>\n",
       "    <tr style=\"text-align: right;\">\n",
       "      <th></th>\n",
       "      <th>Respondent</th>\n",
       "      <th>MainBranch</th>\n",
       "      <th>Hobbyist</th>\n",
       "      <th>OpenSourcer</th>\n",
       "      <th>OpenSource</th>\n",
       "      <th>Employment</th>\n",
       "      <th>Country</th>\n",
       "      <th>Student</th>\n",
       "      <th>EdLevel</th>\n",
       "      <th>UndergradMajor</th>\n",
       "      <th>...</th>\n",
       "      <th>WelcomeChange</th>\n",
       "      <th>SONewContent</th>\n",
       "      <th>Age</th>\n",
       "      <th>Gender</th>\n",
       "      <th>Trans</th>\n",
       "      <th>Sexuality</th>\n",
       "      <th>Ethnicity</th>\n",
       "      <th>Dependents</th>\n",
       "      <th>SurveyLength</th>\n",
       "      <th>SurveyEase</th>\n",
       "    </tr>\n",
       "  </thead>\n",
       "  <tbody>\n",
       "    <tr>\n",
       "      <th>0</th>\n",
       "      <td>4</td>\n",
       "      <td>I am a developer by profession</td>\n",
       "      <td>No</td>\n",
       "      <td>Never</td>\n",
       "      <td>The quality of OSS and closed source software ...</td>\n",
       "      <td>Employed full-time</td>\n",
       "      <td>United States</td>\n",
       "      <td>No</td>\n",
       "      <td>Bachelor’s degree (BA, BS, B.Eng., etc.)</td>\n",
       "      <td>Computer science, computer engineering, or sof...</td>\n",
       "      <td>...</td>\n",
       "      <td>Just as welcome now as I felt last year</td>\n",
       "      <td>Tech articles written by other developers;Indu...</td>\n",
       "      <td>22.0</td>\n",
       "      <td>Man</td>\n",
       "      <td>No</td>\n",
       "      <td>Straight / Heterosexual</td>\n",
       "      <td>White or of European descent</td>\n",
       "      <td>No</td>\n",
       "      <td>Appropriate in length</td>\n",
       "      <td>Easy</td>\n",
       "    </tr>\n",
       "    <tr>\n",
       "      <th>1</th>\n",
       "      <td>9</td>\n",
       "      <td>I am a developer by profession</td>\n",
       "      <td>Yes</td>\n",
       "      <td>Once a month or more often</td>\n",
       "      <td>The quality of OSS and closed source software ...</td>\n",
       "      <td>Employed full-time</td>\n",
       "      <td>New Zealand</td>\n",
       "      <td>No</td>\n",
       "      <td>Some college/university study without earning ...</td>\n",
       "      <td>Computer science, computer engineering, or sof...</td>\n",
       "      <td>...</td>\n",
       "      <td>Just as welcome now as I felt last year</td>\n",
       "      <td>NaN</td>\n",
       "      <td>23.0</td>\n",
       "      <td>Man</td>\n",
       "      <td>No</td>\n",
       "      <td>Bisexual</td>\n",
       "      <td>White or of European descent</td>\n",
       "      <td>No</td>\n",
       "      <td>Appropriate in length</td>\n",
       "      <td>Neither easy nor difficult</td>\n",
       "    </tr>\n",
       "    <tr>\n",
       "      <th>2</th>\n",
       "      <td>13</td>\n",
       "      <td>I am a developer by profession</td>\n",
       "      <td>Yes</td>\n",
       "      <td>Less than once a month but more than once per ...</td>\n",
       "      <td>OSS is, on average, of HIGHER quality than pro...</td>\n",
       "      <td>Employed full-time</td>\n",
       "      <td>United States</td>\n",
       "      <td>No</td>\n",
       "      <td>Master’s degree (MA, MS, M.Eng., MBA, etc.)</td>\n",
       "      <td>Computer science, computer engineering, or sof...</td>\n",
       "      <td>...</td>\n",
       "      <td>Somewhat more welcome now than last year</td>\n",
       "      <td>Tech articles written by other developers;Cour...</td>\n",
       "      <td>28.0</td>\n",
       "      <td>Man</td>\n",
       "      <td>No</td>\n",
       "      <td>Straight / Heterosexual</td>\n",
       "      <td>White or of European descent</td>\n",
       "      <td>Yes</td>\n",
       "      <td>Appropriate in length</td>\n",
       "      <td>Easy</td>\n",
       "    </tr>\n",
       "    <tr>\n",
       "      <th>3</th>\n",
       "      <td>16</td>\n",
       "      <td>I am a developer by profession</td>\n",
       "      <td>Yes</td>\n",
       "      <td>Never</td>\n",
       "      <td>The quality of OSS and closed source software ...</td>\n",
       "      <td>Employed full-time</td>\n",
       "      <td>United Kingdom</td>\n",
       "      <td>No</td>\n",
       "      <td>Master’s degree (MA, MS, M.Eng., MBA, etc.)</td>\n",
       "      <td>NaN</td>\n",
       "      <td>...</td>\n",
       "      <td>Just as welcome now as I felt last year</td>\n",
       "      <td>Tech articles written by other developers;Indu...</td>\n",
       "      <td>26.0</td>\n",
       "      <td>Man</td>\n",
       "      <td>No</td>\n",
       "      <td>Straight / Heterosexual</td>\n",
       "      <td>White or of European descent</td>\n",
       "      <td>No</td>\n",
       "      <td>Appropriate in length</td>\n",
       "      <td>Neither easy nor difficult</td>\n",
       "    </tr>\n",
       "    <tr>\n",
       "      <th>4</th>\n",
       "      <td>17</td>\n",
       "      <td>I am a developer by profession</td>\n",
       "      <td>Yes</td>\n",
       "      <td>Less than once a month but more than once per ...</td>\n",
       "      <td>The quality of OSS and closed source software ...</td>\n",
       "      <td>Employed full-time</td>\n",
       "      <td>Australia</td>\n",
       "      <td>No</td>\n",
       "      <td>Bachelor’s degree (BA, BS, B.Eng., etc.)</td>\n",
       "      <td>Computer science, computer engineering, or sof...</td>\n",
       "      <td>...</td>\n",
       "      <td>Just as welcome now as I felt last year</td>\n",
       "      <td>Tech articles written by other developers;Indu...</td>\n",
       "      <td>29.0</td>\n",
       "      <td>Man</td>\n",
       "      <td>No</td>\n",
       "      <td>Straight / Heterosexual</td>\n",
       "      <td>Hispanic or Latino/Latina;Multiracial</td>\n",
       "      <td>No</td>\n",
       "      <td>Appropriate in length</td>\n",
       "      <td>Easy</td>\n",
       "    </tr>\n",
       "  </tbody>\n",
       "</table>\n",
       "<p>5 rows × 85 columns</p>\n",
       "</div>"
      ],
      "text/plain": [
       "   Respondent                      MainBranch Hobbyist  \\\n",
       "0           4  I am a developer by profession       No   \n",
       "1           9  I am a developer by profession      Yes   \n",
       "2          13  I am a developer by profession      Yes   \n",
       "3          16  I am a developer by profession      Yes   \n",
       "4          17  I am a developer by profession      Yes   \n",
       "\n",
       "                                         OpenSourcer  \\\n",
       "0                                              Never   \n",
       "1                         Once a month or more often   \n",
       "2  Less than once a month but more than once per ...   \n",
       "3                                              Never   \n",
       "4  Less than once a month but more than once per ...   \n",
       "\n",
       "                                          OpenSource          Employment  \\\n",
       "0  The quality of OSS and closed source software ...  Employed full-time   \n",
       "1  The quality of OSS and closed source software ...  Employed full-time   \n",
       "2  OSS is, on average, of HIGHER quality than pro...  Employed full-time   \n",
       "3  The quality of OSS and closed source software ...  Employed full-time   \n",
       "4  The quality of OSS and closed source software ...  Employed full-time   \n",
       "\n",
       "          Country Student                                            EdLevel  \\\n",
       "0   United States      No           Bachelor’s degree (BA, BS, B.Eng., etc.)   \n",
       "1     New Zealand      No  Some college/university study without earning ...   \n",
       "2   United States      No        Master’s degree (MA, MS, M.Eng., MBA, etc.)   \n",
       "3  United Kingdom      No        Master’s degree (MA, MS, M.Eng., MBA, etc.)   \n",
       "4       Australia      No           Bachelor’s degree (BA, BS, B.Eng., etc.)   \n",
       "\n",
       "                                      UndergradMajor  ...  \\\n",
       "0  Computer science, computer engineering, or sof...  ...   \n",
       "1  Computer science, computer engineering, or sof...  ...   \n",
       "2  Computer science, computer engineering, or sof...  ...   \n",
       "3                                                NaN  ...   \n",
       "4  Computer science, computer engineering, or sof...  ...   \n",
       "\n",
       "                              WelcomeChange  \\\n",
       "0   Just as welcome now as I felt last year   \n",
       "1   Just as welcome now as I felt last year   \n",
       "2  Somewhat more welcome now than last year   \n",
       "3   Just as welcome now as I felt last year   \n",
       "4   Just as welcome now as I felt last year   \n",
       "\n",
       "                                        SONewContent   Age Gender Trans  \\\n",
       "0  Tech articles written by other developers;Indu...  22.0    Man    No   \n",
       "1                                                NaN  23.0    Man    No   \n",
       "2  Tech articles written by other developers;Cour...  28.0    Man    No   \n",
       "3  Tech articles written by other developers;Indu...  26.0    Man    No   \n",
       "4  Tech articles written by other developers;Indu...  29.0    Man    No   \n",
       "\n",
       "                 Sexuality                              Ethnicity Dependents  \\\n",
       "0  Straight / Heterosexual           White or of European descent         No   \n",
       "1                 Bisexual           White or of European descent         No   \n",
       "2  Straight / Heterosexual           White or of European descent        Yes   \n",
       "3  Straight / Heterosexual           White or of European descent         No   \n",
       "4  Straight / Heterosexual  Hispanic or Latino/Latina;Multiracial         No   \n",
       "\n",
       "            SurveyLength                  SurveyEase  \n",
       "0  Appropriate in length                        Easy  \n",
       "1  Appropriate in length  Neither easy nor difficult  \n",
       "2  Appropriate in length                        Easy  \n",
       "3  Appropriate in length  Neither easy nor difficult  \n",
       "4  Appropriate in length                        Easy  \n",
       "\n",
       "[5 rows x 85 columns]"
      ]
     },
     "execution_count": 22,
     "metadata": {},
     "output_type": "execute_result"
    }
   ],
   "source": [
    "## Write your code here\n",
    "df.head()"
   ]
  },
  {
   "cell_type": "markdown",
   "id": "f432eb89-e6cf-42a9-a842-840f24e8d19b",
   "metadata": {},
   "source": [
    "## Find out the number of rows and columns\n"
   ]
  },
  {
   "cell_type": "markdown",
   "id": "5b2e6eae-1b8b-4ae9-a8a4-59c6153dabd2",
   "metadata": {},
   "source": [
    "Start by exploring the numbers of rows and columns of data in the dataset.\n"
   ]
  },
  {
   "cell_type": "markdown",
   "id": "b08524b5-1ac5-4da9-aedc-6595ce90e8c7",
   "metadata": {},
   "source": [
    "Print the number of rows in the dataset.\n"
   ]
  },
  {
   "cell_type": "code",
   "execution_count": 23,
   "id": "950af894-41e2-40c8-96aa-856278e0a466",
   "metadata": {},
   "outputs": [
    {
     "name": "stdout",
     "output_type": "stream",
     "text": [
      "11552\n"
     ]
    }
   ],
   "source": [
    "## Write your code here\n",
    "print(df.shape[0])"
   ]
  },
  {
   "cell_type": "markdown",
   "id": "9acf3ad3-d055-47b2-8fda-29c59d02f723",
   "metadata": {},
   "source": [
    "Print the number of columns in the dataset.\n"
   ]
  },
  {
   "cell_type": "code",
   "execution_count": 24,
   "id": "eea9aaaa-f7d1-49f8-aea4-16ad92e77c12",
   "metadata": {},
   "outputs": [
    {
     "name": "stdout",
     "output_type": "stream",
     "text": [
      "85\n"
     ]
    }
   ],
   "source": [
    "## Write your code here\n",
    "print(df.shape[1])"
   ]
  },
  {
   "cell_type": "markdown",
   "id": "8177fa73-34b9-42e3-a252-a20e29bd72cd",
   "metadata": {},
   "source": [
    "## Identify the data types of each column\n"
   ]
  },
  {
   "cell_type": "markdown",
   "id": "2f615916-db9f-4461-ad25-9ec04c1ca58a",
   "metadata": {},
   "source": [
    "Explore the dataset and identify the data types of each column.\n"
   ]
  },
  {
   "cell_type": "markdown",
   "id": "94bd44db-96c3-4576-b24d-42f81ca64592",
   "metadata": {},
   "source": [
    "Print the datatype of all columns.\n"
   ]
  },
  {
   "cell_type": "code",
   "execution_count": 25,
   "id": "db5b9d85-f83b-4a3e-8578-0bee2d25595b",
   "metadata": {},
   "outputs": [
    {
     "data": {
      "text/plain": [
       "Respondent       int64\n",
       "MainBranch      object\n",
       "Hobbyist        object\n",
       "OpenSourcer     object\n",
       "OpenSource      object\n",
       "                 ...  \n",
       "Sexuality       object\n",
       "Ethnicity       object\n",
       "Dependents      object\n",
       "SurveyLength    object\n",
       "SurveyEase      object\n",
       "Length: 85, dtype: object"
      ]
     },
     "execution_count": 25,
     "metadata": {},
     "output_type": "execute_result"
    }
   ],
   "source": [
    "## Write your code here\n",
    "df.dtypes"
   ]
  },
  {
   "cell_type": "markdown",
   "id": "cc3092ca-63f2-4762-854f-b46a02d0b8ee",
   "metadata": {},
   "source": [
    "Print the mean age of the survey participants.\n"
   ]
  },
  {
   "cell_type": "code",
   "execution_count": 26,
   "id": "9ece8b48-c838-43a5-b169-778d564a895f",
   "metadata": {},
   "outputs": [
    {
     "name": "stdout",
     "output_type": "stream",
     "text": [
      "30.77239449133718\n"
     ]
    }
   ],
   "source": [
    "## Write your code here\n",
    "print(df['Age'].mean())"
   ]
  },
  {
   "cell_type": "markdown",
   "id": "d632815f-0998-478c-b499-528c4130747a",
   "metadata": {},
   "source": [
    "The dataset is the result of a world wide survey. Print how many unique countries are there in the Country column.\n"
   ]
  },
  {
   "cell_type": "code",
   "execution_count": 27,
   "id": "20bc4981-ef14-4f25-867e-98d7e05b1fdd",
   "metadata": {},
   "outputs": [
    {
     "name": "stdout",
     "output_type": "stream",
     "text": [
      "135\n"
     ]
    }
   ],
   "source": [
    "## Write your code here\n",
    "print(df['Country'].nunique())"
   ]
  },
  {
   "cell_type": "markdown",
   "id": "c5dda6e0-de5d-45d6-8066-98623c4b5ced",
   "metadata": {},
   "source": [
    "<!--\n",
    "## Change Log\n",
    "|Date (YYYY-MM-DD)|Version|Changed By|Change Description|\n",
    "|-|-|-|-|\n",
    "|2024-10-29|3.0|Madhusudhan|Updated lab|\n",
    "|2024-09-23|2.0|Madhusudhan|Updated lab|\n",
    "|2024-09-22|1.0|Raghul Ramesh|Created lab|\n",
    "--!>\n"
   ]
  },
  {
   "cell_type": "markdown",
   "id": "1338b7f0-806e-45d1-98c5-61bf8911f6cc",
   "metadata": {},
   "source": [
    "Copyright ©  IBM Corporation. All rights reserved.\n"
   ]
  }
 ],
 "metadata": {
  "kernelspec": {
   "display_name": "Python 3",
   "language": "python",
   "name": "python3"
  },
  "language_info": {
   "codemirror_mode": {
    "name": "ipython",
    "version": 3
   },
   "file_extension": ".py",
   "mimetype": "text/x-python",
   "name": "python",
   "nbconvert_exporter": "python",
   "pygments_lexer": "ipython3",
   "version": "3.12.9"
  },
  "prev_pub_hash": "bedd3aee3a13510f42e8f2d452448a778151a18ce4b7e4d854c4c56f9dea7a3b"
 },
 "nbformat": 4,
 "nbformat_minor": 4
}
