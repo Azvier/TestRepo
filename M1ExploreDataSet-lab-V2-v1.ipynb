{
 "cells": [
  {
   "cell_type": "markdown",
   "id": "89bfa067-56b6-4d3e-a97a-c66addd39c4a",
   "metadata": {},
   "source": [
    "<p style=\"text-align:center\">\n",
    "    <a href=\"https://skills.network\" target=\"_blank\">\n",
    "    <img src=\"https://cf-courses-data.s3.us.cloud-object-storage.appdomain.cloud/assets/logos/SN_web_lightmode.png\" width=\"200\" alt=\"Skills Network Logo\"  />\n",
    "    </a>\n",
    "</p>\n"
   ]
  },
  {
   "cell_type": "markdown",
   "id": "76d119a8-428d-4afb-bb94-197b0c06855b",
   "metadata": {},
   "source": [
    "# **Lab: Exploring the Dataset**\n"
   ]
  },
  {
   "cell_type": "markdown",
   "id": "aa243b43-06a8-4e77-85ee-852eb34b6320",
   "metadata": {},
   "source": [
    "Estimated time needed: **30** minutes\n"
   ]
  },
  {
   "cell_type": "markdown",
   "id": "64004590-bf67-4bea-a15f-b73e39df1291",
   "metadata": {},
   "source": [
    "## Introduction\n"
   ]
  },
  {
   "cell_type": "markdown",
   "id": "18cd8a50-a2e6-45d1-afa4-478c9d57c203",
   "metadata": {},
   "source": [
    "Data exploration is the initial phase of data analysis where we aim to understand the data's characteristics, identify patterns, and uncover potential insights. It is a crucial step that helps us make informed decisions about subsequent analysis.\n"
   ]
  },
  {
   "cell_type": "markdown",
   "id": "df168251-baa2-4206-852f-d2dcbc1ac64d",
   "metadata": {},
   "source": [
    "## Objectives\n"
   ]
  },
  {
   "cell_type": "markdown",
   "id": "46d5ecb9-e0d4-4092-b6e5-4c09d2434d3c",
   "metadata": {},
   "source": [
    "After completing this lab, you will be able to:\n"
   ]
  },
  {
   "cell_type": "markdown",
   "id": "1153cb0c-00af-43e8-a987-e99b2d0f6d5c",
   "metadata": {},
   "source": [
    "-   Summarize the key characteristics of a dataset.\n",
    "-   Identify different data types commonly used in data analysis.\n"
   ]
  },
  {
   "cell_type": "markdown",
   "id": "e60f9752-5938-419b-b51e-e5bf0841f140",
   "metadata": {},
   "source": [
    "## Load the dataset\n"
   ]
  },
  {
   "cell_type": "markdown",
   "id": "bf53d08e-bf58-49ce-8953-bb761f102c3e",
   "metadata": {},
   "source": [
    "Import the required libraries.\n"
   ]
  },
  {
   "cell_type": "code",
   "execution_count": 3,
   "id": "16412d09-4bb0-46c1-bb2d-97036a6ed9bd",
   "metadata": {},
   "outputs": [],
   "source": [
    "import pandas as pd"
   ]
  },
  {
   "cell_type": "markdown",
   "id": "848f49cf-f61b-4aad-ae04-3267f0c6c797",
   "metadata": {},
   "source": [
    "The dataset is available on the IBM Cloud at the below url.\n"
   ]
  },
  {
   "cell_type": "code",
   "execution_count": 1,
   "id": "a0953716-5679-4261-9f2f-f55594b39822",
   "metadata": {},
   "outputs": [],
   "source": [
    "dataset_url = \"https://cf-courses-data.s3.us.cloud-object-storage.appdomain.cloud/n01PQ9pSmiRX6520flujwQ/survey-data.csv\""
   ]
  },
  {
   "cell_type": "markdown",
   "id": "23cd4740-8a85-4a5d-b370-bd78242c527b",
   "metadata": {},
   "source": [
    "Load the data available at dataset_url into a dataframe.\n"
   ]
  },
  {
   "cell_type": "code",
   "execution_count": 4,
   "id": "3d0a3e50-ba3c-45eb-8b7c-a2f37878560c",
   "metadata": {},
   "outputs": [],
   "source": [
    "## Write your code here\n",
    "df = pd.read_csv(dataset_url)"
   ]
  },
  {
   "cell_type": "markdown",
   "id": "51069905-ea7c-4ac5-9e62-d35d4b86296c",
   "metadata": {},
   "source": [
    "## Explore the dataset\n"
   ]
  },
  {
   "cell_type": "markdown",
   "id": "cfc080f2-2dd9-45cc-a80a-61ac90a9ac76",
   "metadata": {},
   "source": [
    "It is a good idea to print the top 5 rows of the dataset to get a feel of how the dataset will look.\n"
   ]
  },
  {
   "cell_type": "markdown",
   "id": "b0c5d7ac-5ff4-408c-bc24-e90785a8cd0f",
   "metadata": {},
   "source": [
    "Display the top 5 rows and columns from your dataset.\n"
   ]
  },
  {
   "cell_type": "code",
   "execution_count": 5,
   "id": "b1d46fea-59ff-4bb2-9df3-a9e45b03aab2",
   "metadata": {},
   "outputs": [
    {
     "data": {
      "application/vnd.microsoft.datawrangler.viewer.v0+json": {
       "columns": [
        {
         "name": "index",
         "rawType": "int64",
         "type": "integer"
        },
        {
         "name": "ResponseId",
         "rawType": "int64",
         "type": "integer"
        },
        {
         "name": "MainBranch",
         "rawType": "object",
         "type": "string"
        },
        {
         "name": "Age",
         "rawType": "object",
         "type": "string"
        },
        {
         "name": "Employment",
         "rawType": "object",
         "type": "string"
        },
        {
         "name": "RemoteWork",
         "rawType": "object",
         "type": "unknown"
        },
        {
         "name": "Check",
         "rawType": "object",
         "type": "string"
        },
        {
         "name": "CodingActivities",
         "rawType": "object",
         "type": "unknown"
        },
        {
         "name": "EdLevel",
         "rawType": "object",
         "type": "string"
        },
        {
         "name": "LearnCode",
         "rawType": "object",
         "type": "string"
        },
        {
         "name": "LearnCodeOnline",
         "rawType": "object",
         "type": "unknown"
        },
        {
         "name": "TechDoc",
         "rawType": "object",
         "type": "unknown"
        },
        {
         "name": "YearsCode",
         "rawType": "object",
         "type": "unknown"
        },
        {
         "name": "YearsCodePro",
         "rawType": "object",
         "type": "unknown"
        },
        {
         "name": "DevType",
         "rawType": "object",
         "type": "unknown"
        },
        {
         "name": "OrgSize",
         "rawType": "object",
         "type": "unknown"
        },
        {
         "name": "PurchaseInfluence",
         "rawType": "object",
         "type": "unknown"
        },
        {
         "name": "BuyNewTool",
         "rawType": "object",
         "type": "unknown"
        },
        {
         "name": "BuildvsBuy",
         "rawType": "object",
         "type": "unknown"
        },
        {
         "name": "TechEndorse",
         "rawType": "object",
         "type": "unknown"
        },
        {
         "name": "Country",
         "rawType": "object",
         "type": "string"
        },
        {
         "name": "Currency",
         "rawType": "object",
         "type": "unknown"
        },
        {
         "name": "CompTotal",
         "rawType": "float64",
         "type": "float"
        },
        {
         "name": "LanguageHaveWorkedWith",
         "rawType": "object",
         "type": "unknown"
        },
        {
         "name": "LanguageWantToWorkWith",
         "rawType": "object",
         "type": "unknown"
        },
        {
         "name": "LanguageAdmired",
         "rawType": "object",
         "type": "unknown"
        },
        {
         "name": "DatabaseHaveWorkedWith",
         "rawType": "object",
         "type": "unknown"
        },
        {
         "name": "DatabaseWantToWorkWith",
         "rawType": "object",
         "type": "unknown"
        },
        {
         "name": "DatabaseAdmired",
         "rawType": "object",
         "type": "unknown"
        },
        {
         "name": "PlatformHaveWorkedWith",
         "rawType": "object",
         "type": "unknown"
        },
        {
         "name": "PlatformWantToWorkWith",
         "rawType": "object",
         "type": "unknown"
        },
        {
         "name": "PlatformAdmired",
         "rawType": "object",
         "type": "unknown"
        },
        {
         "name": "WebframeHaveWorkedWith",
         "rawType": "object",
         "type": "unknown"
        },
        {
         "name": "WebframeWantToWorkWith",
         "rawType": "object",
         "type": "unknown"
        },
        {
         "name": "WebframeAdmired",
         "rawType": "object",
         "type": "unknown"
        },
        {
         "name": "EmbeddedHaveWorkedWith",
         "rawType": "object",
         "type": "unknown"
        },
        {
         "name": "EmbeddedWantToWorkWith",
         "rawType": "object",
         "type": "unknown"
        },
        {
         "name": "EmbeddedAdmired",
         "rawType": "object",
         "type": "unknown"
        },
        {
         "name": "MiscTechHaveWorkedWith",
         "rawType": "object",
         "type": "unknown"
        },
        {
         "name": "MiscTechWantToWorkWith",
         "rawType": "object",
         "type": "unknown"
        },
        {
         "name": "MiscTechAdmired",
         "rawType": "object",
         "type": "unknown"
        },
        {
         "name": "ToolsTechHaveWorkedWith",
         "rawType": "object",
         "type": "unknown"
        },
        {
         "name": "ToolsTechWantToWorkWith",
         "rawType": "object",
         "type": "unknown"
        },
        {
         "name": "ToolsTechAdmired",
         "rawType": "object",
         "type": "unknown"
        },
        {
         "name": "NEWCollabToolsHaveWorkedWith",
         "rawType": "object",
         "type": "unknown"
        },
        {
         "name": "NEWCollabToolsWantToWorkWith",
         "rawType": "object",
         "type": "unknown"
        },
        {
         "name": "NEWCollabToolsAdmired",
         "rawType": "object",
         "type": "unknown"
        },
        {
         "name": "OpSysPersonal use",
         "rawType": "object",
         "type": "unknown"
        },
        {
         "name": "OpSysProfessional use",
         "rawType": "object",
         "type": "unknown"
        },
        {
         "name": "OfficeStackAsyncHaveWorkedWith",
         "rawType": "object",
         "type": "unknown"
        },
        {
         "name": "OfficeStackAsyncWantToWorkWith",
         "rawType": "object",
         "type": "unknown"
        },
        {
         "name": "OfficeStackAsyncAdmired",
         "rawType": "object",
         "type": "unknown"
        },
        {
         "name": "OfficeStackSyncHaveWorkedWith",
         "rawType": "object",
         "type": "unknown"
        },
        {
         "name": "OfficeStackSyncWantToWorkWith",
         "rawType": "object",
         "type": "unknown"
        },
        {
         "name": "OfficeStackSyncAdmired",
         "rawType": "object",
         "type": "unknown"
        },
        {
         "name": "AISearchDevHaveWorkedWith",
         "rawType": "object",
         "type": "unknown"
        },
        {
         "name": "AISearchDevWantToWorkWith",
         "rawType": "object",
         "type": "unknown"
        },
        {
         "name": "AISearchDevAdmired",
         "rawType": "object",
         "type": "unknown"
        },
        {
         "name": "NEWSOSites",
         "rawType": "object",
         "type": "string"
        },
        {
         "name": "SOVisitFreq",
         "rawType": "object",
         "type": "unknown"
        },
        {
         "name": "SOAccount",
         "rawType": "object",
         "type": "unknown"
        },
        {
         "name": "SOPartFreq",
         "rawType": "object",
         "type": "unknown"
        },
        {
         "name": "SOHow",
         "rawType": "object",
         "type": "unknown"
        },
        {
         "name": "SOComm",
         "rawType": "object",
         "type": "unknown"
        },
        {
         "name": "AISelect",
         "rawType": "object",
         "type": "string"
        },
        {
         "name": "AISent",
         "rawType": "object",
         "type": "unknown"
        },
        {
         "name": "AIBen",
         "rawType": "object",
         "type": "unknown"
        },
        {
         "name": "AIAcc",
         "rawType": "object",
         "type": "unknown"
        },
        {
         "name": "AIComplex",
         "rawType": "object",
         "type": "unknown"
        },
        {
         "name": "AIToolCurrently Using",
         "rawType": "object",
         "type": "unknown"
        },
        {
         "name": "AIToolInterested in Using",
         "rawType": "object",
         "type": "unknown"
        },
        {
         "name": "AIToolNot interested in Using",
         "rawType": "object",
         "type": "unknown"
        },
        {
         "name": "AINextMuch more integrated",
         "rawType": "object",
         "type": "unknown"
        },
        {
         "name": "AINextNo change",
         "rawType": "object",
         "type": "unknown"
        },
        {
         "name": "AINextMore integrated",
         "rawType": "object",
         "type": "unknown"
        },
        {
         "name": "AINextLess integrated",
         "rawType": "object",
         "type": "unknown"
        },
        {
         "name": "AINextMuch less integrated",
         "rawType": "object",
         "type": "unknown"
        },
        {
         "name": "AIThreat",
         "rawType": "object",
         "type": "unknown"
        },
        {
         "name": "AIEthics",
         "rawType": "object",
         "type": "unknown"
        },
        {
         "name": "AIChallenges",
         "rawType": "object",
         "type": "unknown"
        },
        {
         "name": "TBranch",
         "rawType": "object",
         "type": "unknown"
        },
        {
         "name": "ICorPM",
         "rawType": "object",
         "type": "unknown"
        },
        {
         "name": "WorkExp",
         "rawType": "float64",
         "type": "float"
        },
        {
         "name": "Knowledge_1",
         "rawType": "object",
         "type": "unknown"
        },
        {
         "name": "Knowledge_2",
         "rawType": "object",
         "type": "unknown"
        },
        {
         "name": "Knowledge_3",
         "rawType": "object",
         "type": "unknown"
        },
        {
         "name": "Knowledge_4",
         "rawType": "object",
         "type": "unknown"
        },
        {
         "name": "Knowledge_5",
         "rawType": "object",
         "type": "unknown"
        },
        {
         "name": "Knowledge_6",
         "rawType": "object",
         "type": "unknown"
        },
        {
         "name": "Knowledge_7",
         "rawType": "object",
         "type": "unknown"
        },
        {
         "name": "Knowledge_8",
         "rawType": "object",
         "type": "unknown"
        },
        {
         "name": "Knowledge_9",
         "rawType": "object",
         "type": "unknown"
        },
        {
         "name": "Frequency_1",
         "rawType": "object",
         "type": "unknown"
        },
        {
         "name": "Frequency_2",
         "rawType": "object",
         "type": "unknown"
        },
        {
         "name": "Frequency_3",
         "rawType": "object",
         "type": "unknown"
        },
        {
         "name": "TimeSearching",
         "rawType": "object",
         "type": "unknown"
        },
        {
         "name": "TimeAnswering",
         "rawType": "object",
         "type": "unknown"
        },
        {
         "name": "Frustration",
         "rawType": "object",
         "type": "unknown"
        },
        {
         "name": "ProfessionalTech",
         "rawType": "object",
         "type": "unknown"
        },
        {
         "name": "ProfessionalCloud",
         "rawType": "object",
         "type": "unknown"
        },
        {
         "name": "ProfessionalQuestion",
         "rawType": "object",
         "type": "unknown"
        },
        {
         "name": "Industry",
         "rawType": "object",
         "type": "unknown"
        },
        {
         "name": "JobSatPoints_1",
         "rawType": "float64",
         "type": "float"
        },
        {
         "name": "JobSatPoints_4",
         "rawType": "float64",
         "type": "float"
        },
        {
         "name": "JobSatPoints_5",
         "rawType": "float64",
         "type": "float"
        },
        {
         "name": "JobSatPoints_6",
         "rawType": "float64",
         "type": "float"
        },
        {
         "name": "JobSatPoints_7",
         "rawType": "float64",
         "type": "float"
        },
        {
         "name": "JobSatPoints_8",
         "rawType": "float64",
         "type": "float"
        },
        {
         "name": "JobSatPoints_9",
         "rawType": "float64",
         "type": "float"
        },
        {
         "name": "JobSatPoints_10",
         "rawType": "float64",
         "type": "float"
        },
        {
         "name": "JobSatPoints_11",
         "rawType": "float64",
         "type": "float"
        },
        {
         "name": "SurveyLength",
         "rawType": "object",
         "type": "unknown"
        },
        {
         "name": "SurveyEase",
         "rawType": "object",
         "type": "unknown"
        },
        {
         "name": "ConvertedCompYearly",
         "rawType": "float64",
         "type": "float"
        },
        {
         "name": "JobSat",
         "rawType": "float64",
         "type": "float"
        }
       ],
       "conversionMethod": "pd.DataFrame",
       "ref": "9702c7bd-a7c6-4739-abb4-3b322dbd8e35",
       "rows": [
        [
         "0",
         "1",
         "I am a developer by profession",
         "Under 18 years old",
         "Employed, full-time",
         "Remote",
         "Apples",
         "Hobby",
         "Primary/elementary school",
         "Books / Physical media",
         null,
         null,
         null,
         null,
         null,
         null,
         null,
         null,
         null,
         null,
         "United States of America",
         null,
         null,
         null,
         null,
         null,
         null,
         null,
         null,
         null,
         null,
         null,
         null,
         null,
         null,
         null,
         null,
         null,
         null,
         null,
         null,
         null,
         null,
         null,
         null,
         null,
         null,
         null,
         null,
         null,
         null,
         null,
         null,
         null,
         null,
         null,
         null,
         null,
         "I have never visited Stack Overflow or the Stack Exchange network",
         null,
         null,
         null,
         null,
         null,
         "Yes",
         "Very favorable",
         "Increase productivity",
         null,
         null,
         null,
         null,
         null,
         null,
         null,
         null,
         null,
         null,
         null,
         null,
         null,
         "No",
         null,
         null,
         null,
         null,
         null,
         null,
         null,
         null,
         null,
         null,
         null,
         null,
         null,
         null,
         null,
         null,
         null,
         null,
         null,
         null,
         null,
         null,
         null,
         null,
         null,
         null,
         null,
         null,
         null,
         null,
         null,
         null,
         null,
         null
        ],
        [
         "1",
         "2",
         "I am a developer by profession",
         "35-44 years old",
         "Employed, full-time",
         "Remote",
         "Apples",
         "Hobby;Contribute to open-source projects;Other (please specify):",
         "Bachelor’s degree (B.A., B.S., B.Eng., etc.)",
         "Books / Physical media;Colleague;On the job training;Other online resources (e.g., videos, blogs, forum, online community)",
         "Technical documentation;Blogs;Books;Written Tutorials;Stack Overflow",
         "API document(s) and/or SDK document(s);User guides or README files found in the source repository;First-party knowledge base;Traditional public search engine",
         "20",
         "17",
         "Developer, full-stack",
         null,
         null,
         null,
         null,
         null,
         "United Kingdom of Great Britain and Northern Ireland",
         null,
         null,
         "Bash/Shell (all shells);Go;HTML/CSS;Java;JavaScript;Python;TypeScript",
         "Bash/Shell (all shells);Go;HTML/CSS;Java;JavaScript;Kotlin;Python;TypeScript",
         "Bash/Shell (all shells);Go;HTML/CSS;Java;JavaScript;Python;TypeScript",
         "Dynamodb;MongoDB;PostgreSQL",
         "PostgreSQL",
         "PostgreSQL",
         "Amazon Web Services (AWS);Heroku;Netlify",
         "Amazon Web Services (AWS);Heroku;Netlify",
         "Amazon Web Services (AWS);Heroku;Netlify",
         "Express;Next.js;Node.js;React",
         "Express;Htmx;Node.js;React;Remix",
         "Express;Node.js;React",
         null,
         null,
         null,
         null,
         null,
         null,
         "Docker;Homebrew;Kubernetes;npm;Vite;Webpack",
         "Docker;Homebrew;Kubernetes;npm;Vite;Webpack",
         "Docker;Homebrew;Kubernetes;npm;Vite;Webpack",
         "PyCharm;Visual Studio Code;WebStorm",
         "PyCharm;Visual Studio Code;WebStorm",
         "PyCharm;Visual Studio Code;WebStorm",
         "MacOS;Windows",
         "MacOS",
         null,
         null,
         null,
         "Microsoft Teams;Slack",
         "Slack",
         "Slack",
         null,
         null,
         null,
         "Stack Overflow for Teams (private knowledge sharing & collaboration platform for companies);Stack Overflow;Stack Exchange",
         "Multiple times per day",
         "Yes",
         "Multiple times per day",
         "Quickly finding code solutions;Finding reliable guidance from community-vetted answers;Showcase expertise with code solutions;Engage with community by commenting on questions and answers or voting on questions and answers",
         "Yes, definitely",
         "No, and I don't plan to",
         null,
         null,
         null,
         null,
         null,
         null,
         null,
         null,
         null,
         null,
         null,
         null,
         null,
         null,
         null,
         "Yes",
         "Individual contributor",
         "17.0",
         "Agree",
         "Disagree",
         "Agree",
         "Agree",
         "Agree",
         "Neither agree nor disagree",
         "Disagree",
         "Agree",
         "Agree",
         null,
         null,
         null,
         null,
         null,
         null,
         null,
         null,
         null,
         null,
         "0.0",
         "0.0",
         "0.0",
         "0.0",
         "0.0",
         "0.0",
         "0.0",
         "0.0",
         "0.0",
         null,
         null,
         null,
         null
        ],
        [
         "2",
         "3",
         "I am a developer by profession",
         "45-54 years old",
         "Employed, full-time",
         "Remote",
         "Apples",
         "Hobby;Contribute to open-source projects;Other (please specify):",
         "Master’s degree (M.A., M.S., M.Eng., MBA, etc.)",
         "Books / Physical media;Colleague;On the job training;Other online resources (e.g., videos, blogs, forum, online community);School (i.e., University, College, etc)",
         "Technical documentation;Blogs;Books;Written Tutorials;Stack Overflow;Coding sessions (live or recorded);Social Media",
         "API document(s) and/or SDK document(s);User guides or README files found in the source repository;Traditional public search engine",
         "37",
         "27",
         "Developer Experience",
         null,
         null,
         null,
         null,
         null,
         "United Kingdom of Great Britain and Northern Ireland",
         null,
         null,
         "C#",
         "C#",
         "C#",
         "Firebase Realtime Database",
         "Firebase Realtime Database",
         "Firebase Realtime Database",
         "Google Cloud",
         "Google Cloud",
         "Google Cloud",
         "ASP.NET CORE",
         "ASP.NET CORE",
         "ASP.NET CORE",
         "Rasberry Pi",
         "Rasberry Pi",
         "Rasberry Pi",
         ".NET (5+) ;.NET Framework (1.0 - 4.8);.NET MAUI",
         ".NET (5+) ;.NET Framework (1.0 - 4.8);.NET MAUI",
         ".NET (5+) ;.NET Framework (1.0 - 4.8);.NET MAUI",
         "MSBuild",
         "MSBuild",
         "MSBuild",
         "Visual Studio",
         "Visual Studio",
         "Visual Studio",
         "Windows",
         "Windows",
         null,
         null,
         null,
         "Google Chat;Google Meet;Microsoft Teams;Zoom",
         "Google Chat;Google Meet;Zoom",
         "Google Chat;Google Meet;Zoom",
         null,
         null,
         null,
         "Stack Overflow;Stack Exchange;Stack Overflow Blog or Podcast",
         "Multiple times per day",
         "Yes",
         "Multiple times per day",
         "Quickly finding code solutions;Finding reliable guidance from community-vetted answers;Showcase expertise with code solutions;Engage with community by commenting on questions and answers or voting on questions and answers;Learning new-to-me technology/techniques;Learning new-to-everyone technology/techniques",
         "Yes, definitely",
         "No, and I don't plan to",
         null,
         null,
         null,
         null,
         null,
         null,
         null,
         null,
         null,
         null,
         null,
         null,
         null,
         null,
         null,
         "No",
         null,
         null,
         null,
         null,
         null,
         null,
         null,
         null,
         null,
         null,
         null,
         null,
         null,
         null,
         null,
         null,
         null,
         null,
         null,
         null,
         null,
         null,
         null,
         null,
         null,
         null,
         null,
         null,
         null,
         null,
         "Appropriate in length",
         "Easy",
         null,
         null
        ],
        [
         "3",
         "4",
         "I am learning to code",
         "18-24 years old",
         "Student, full-time",
         null,
         "Apples",
         null,
         "Some college/university study without earning a degree",
         "Other online resources (e.g., videos, blogs, forum, online community);School (i.e., University, College, etc);Online Courses or Certification",
         "Stack Overflow;How-to videos;Interactive tutorial",
         null,
         "4",
         null,
         "Developer, full-stack",
         null,
         null,
         null,
         null,
         null,
         "Canada",
         null,
         null,
         "C;C++;HTML/CSS;Java;JavaScript;PHP;PowerShell;Python;SQL;TypeScript",
         "HTML/CSS;Java;JavaScript;PowerShell;Python;SQL;TypeScript",
         "HTML/CSS;Java;JavaScript;PowerShell;Python;SQL;TypeScript",
         "MongoDB;MySQL;PostgreSQL;SQLite",
         "MongoDB;MySQL;PostgreSQL",
         "MongoDB;MySQL;PostgreSQL",
         "Amazon Web Services (AWS);Fly.io;Heroku",
         "Amazon Web Services (AWS);Vercel",
         "Amazon Web Services (AWS)",
         "jQuery;Next.js;Node.js;React;WordPress",
         "jQuery;Next.js;Node.js;React",
         "jQuery;Next.js;Node.js;React",
         "Rasberry Pi",
         null,
         null,
         "NumPy;Pandas;Ruff;TensorFlow",
         null,
         null,
         "Docker;npm;Pip",
         "Docker;Kubernetes;npm",
         "Docker;npm",
         null,
         null,
         null,
         null,
         null,
         null,
         null,
         null,
         null,
         null,
         null,
         null,
         null,
         null,
         "Stack Overflow",
         "Daily or almost daily",
         "No",
         null,
         "Quickly finding code solutions",
         "No, not really",
         "Yes",
         "Very favorable",
         "Increase productivity;Greater efficiency;Improve collaboration;Speed up learning;Improve accuracy in coding",
         "Somewhat trust",
         "Bad at handling complex tasks",
         "Learning about a codebase;Project planning;Writing code;Documenting code;Debugging and getting help;Deployment and monitoring;Search for answers;Generating content or synthetic data",
         "Testing code;Committing and reviewing code;Predictive analytics",
         null,
         "Learning about a codebase;Project planning;Writing code;Documenting code;Debugging and getting help;Deployment and monitoring;Search for answers;Generating content or synthetic data",
         null,
         null,
         null,
         null,
         "No",
         "Circulating misinformation or disinformation;Missing or incorrect attribution for sources of data",
         "Don’t trust the output or answers",
         null,
         null,
         null,
         null,
         null,
         null,
         null,
         null,
         null,
         null,
         null,
         null,
         null,
         null,
         null,
         null,
         null,
         null,
         null,
         null,
         null,
         null,
         null,
         null,
         null,
         null,
         null,
         null,
         null,
         null,
         null,
         "Too long",
         "Easy",
         null,
         null
        ],
        [
         "4",
         "5",
         "I am a developer by profession",
         "18-24 years old",
         "Student, full-time",
         null,
         "Apples",
         null,
         "Secondary school (e.g. American high school, German Realschule or Gymnasium, etc.)",
         "Other online resources (e.g., videos, blogs, forum, online community)",
         "Technical documentation;Blogs;Written Tutorials;Stack Overflow;Social Media;Video-based Online Courses",
         "API document(s) and/or SDK document(s);User guides or README files found in the source repository;First-party knowledge base;Traditional public search engine",
         "9",
         null,
         "Developer, full-stack",
         null,
         null,
         null,
         null,
         null,
         "Norway",
         null,
         null,
         "C++;HTML/CSS;JavaScript;Lua;Python;Rust",
         "C++;HTML/CSS;JavaScript;Lua;Python",
         "C++;HTML/CSS;JavaScript;Lua;Python",
         "PostgreSQL;SQLite",
         "PostgreSQL;SQLite",
         "PostgreSQL;SQLite",
         null,
         null,
         null,
         null,
         null,
         null,
         "CMake;Cargo;Rasberry Pi",
         "CMake;Rasberry Pi",
         "CMake;Rasberry Pi",
         null,
         null,
         null,
         "APT;Make;npm",
         "APT;Make",
         "APT;Make",
         "Vim",
         "Vim",
         "Vim",
         "Other (please specify):",
         null,
         "GitHub Discussions;Markdown File;Obsidian;Stack Overflow for Teams",
         "GitHub Discussions;Markdown File;Obsidian",
         "GitHub Discussions;Markdown File;Obsidian",
         "Discord;Whatsapp",
         "Discord;Whatsapp",
         "Discord;Whatsapp",
         null,
         null,
         null,
         "Stack Overflow for Teams (private knowledge sharing & collaboration platform for companies);Stack Overflow;Stack Exchange",
         "Multiple times per day",
         "Yes",
         "Multiple times per day",
         "Quickly finding code solutions;Engage with community by commenting on questions and answers or voting on questions and answers;Learning new-to-me technology/techniques;Other (please specify):",
         "Yes, definitely",
         "No, and I don't plan to",
         null,
         null,
         null,
         null,
         null,
         null,
         null,
         null,
         null,
         null,
         null,
         null,
         null,
         null,
         null,
         null,
         null,
         null,
         null,
         null,
         null,
         null,
         null,
         null,
         null,
         null,
         null,
         null,
         null,
         null,
         null,
         null,
         null,
         null,
         null,
         null,
         null,
         null,
         null,
         null,
         null,
         null,
         null,
         null,
         null,
         null,
         "Too short",
         "Easy",
         null,
         null
        ]
       ],
       "shape": {
        "columns": 114,
        "rows": 5
       }
      },
      "text/html": [
       "<div>\n",
       "<style scoped>\n",
       "    .dataframe tbody tr th:only-of-type {\n",
       "        vertical-align: middle;\n",
       "    }\n",
       "\n",
       "    .dataframe tbody tr th {\n",
       "        vertical-align: top;\n",
       "    }\n",
       "\n",
       "    .dataframe thead th {\n",
       "        text-align: right;\n",
       "    }\n",
       "</style>\n",
       "<table border=\"1\" class=\"dataframe\">\n",
       "  <thead>\n",
       "    <tr style=\"text-align: right;\">\n",
       "      <th></th>\n",
       "      <th>ResponseId</th>\n",
       "      <th>MainBranch</th>\n",
       "      <th>Age</th>\n",
       "      <th>Employment</th>\n",
       "      <th>RemoteWork</th>\n",
       "      <th>Check</th>\n",
       "      <th>CodingActivities</th>\n",
       "      <th>EdLevel</th>\n",
       "      <th>LearnCode</th>\n",
       "      <th>LearnCodeOnline</th>\n",
       "      <th>...</th>\n",
       "      <th>JobSatPoints_6</th>\n",
       "      <th>JobSatPoints_7</th>\n",
       "      <th>JobSatPoints_8</th>\n",
       "      <th>JobSatPoints_9</th>\n",
       "      <th>JobSatPoints_10</th>\n",
       "      <th>JobSatPoints_11</th>\n",
       "      <th>SurveyLength</th>\n",
       "      <th>SurveyEase</th>\n",
       "      <th>ConvertedCompYearly</th>\n",
       "      <th>JobSat</th>\n",
       "    </tr>\n",
       "  </thead>\n",
       "  <tbody>\n",
       "    <tr>\n",
       "      <th>0</th>\n",
       "      <td>1</td>\n",
       "      <td>I am a developer by profession</td>\n",
       "      <td>Under 18 years old</td>\n",
       "      <td>Employed, full-time</td>\n",
       "      <td>Remote</td>\n",
       "      <td>Apples</td>\n",
       "      <td>Hobby</td>\n",
       "      <td>Primary/elementary school</td>\n",
       "      <td>Books / Physical media</td>\n",
       "      <td>NaN</td>\n",
       "      <td>...</td>\n",
       "      <td>NaN</td>\n",
       "      <td>NaN</td>\n",
       "      <td>NaN</td>\n",
       "      <td>NaN</td>\n",
       "      <td>NaN</td>\n",
       "      <td>NaN</td>\n",
       "      <td>NaN</td>\n",
       "      <td>NaN</td>\n",
       "      <td>NaN</td>\n",
       "      <td>NaN</td>\n",
       "    </tr>\n",
       "    <tr>\n",
       "      <th>1</th>\n",
       "      <td>2</td>\n",
       "      <td>I am a developer by profession</td>\n",
       "      <td>35-44 years old</td>\n",
       "      <td>Employed, full-time</td>\n",
       "      <td>Remote</td>\n",
       "      <td>Apples</td>\n",
       "      <td>Hobby;Contribute to open-source projects;Other...</td>\n",
       "      <td>Bachelor’s degree (B.A., B.S., B.Eng., etc.)</td>\n",
       "      <td>Books / Physical media;Colleague;On the job tr...</td>\n",
       "      <td>Technical documentation;Blogs;Books;Written Tu...</td>\n",
       "      <td>...</td>\n",
       "      <td>0.0</td>\n",
       "      <td>0.0</td>\n",
       "      <td>0.0</td>\n",
       "      <td>0.0</td>\n",
       "      <td>0.0</td>\n",
       "      <td>0.0</td>\n",
       "      <td>NaN</td>\n",
       "      <td>NaN</td>\n",
       "      <td>NaN</td>\n",
       "      <td>NaN</td>\n",
       "    </tr>\n",
       "    <tr>\n",
       "      <th>2</th>\n",
       "      <td>3</td>\n",
       "      <td>I am a developer by profession</td>\n",
       "      <td>45-54 years old</td>\n",
       "      <td>Employed, full-time</td>\n",
       "      <td>Remote</td>\n",
       "      <td>Apples</td>\n",
       "      <td>Hobby;Contribute to open-source projects;Other...</td>\n",
       "      <td>Master’s degree (M.A., M.S., M.Eng., MBA, etc.)</td>\n",
       "      <td>Books / Physical media;Colleague;On the job tr...</td>\n",
       "      <td>Technical documentation;Blogs;Books;Written Tu...</td>\n",
       "      <td>...</td>\n",
       "      <td>NaN</td>\n",
       "      <td>NaN</td>\n",
       "      <td>NaN</td>\n",
       "      <td>NaN</td>\n",
       "      <td>NaN</td>\n",
       "      <td>NaN</td>\n",
       "      <td>Appropriate in length</td>\n",
       "      <td>Easy</td>\n",
       "      <td>NaN</td>\n",
       "      <td>NaN</td>\n",
       "    </tr>\n",
       "    <tr>\n",
       "      <th>3</th>\n",
       "      <td>4</td>\n",
       "      <td>I am learning to code</td>\n",
       "      <td>18-24 years old</td>\n",
       "      <td>Student, full-time</td>\n",
       "      <td>NaN</td>\n",
       "      <td>Apples</td>\n",
       "      <td>NaN</td>\n",
       "      <td>Some college/university study without earning ...</td>\n",
       "      <td>Other online resources (e.g., videos, blogs, f...</td>\n",
       "      <td>Stack Overflow;How-to videos;Interactive tutorial</td>\n",
       "      <td>...</td>\n",
       "      <td>NaN</td>\n",
       "      <td>NaN</td>\n",
       "      <td>NaN</td>\n",
       "      <td>NaN</td>\n",
       "      <td>NaN</td>\n",
       "      <td>NaN</td>\n",
       "      <td>Too long</td>\n",
       "      <td>Easy</td>\n",
       "      <td>NaN</td>\n",
       "      <td>NaN</td>\n",
       "    </tr>\n",
       "    <tr>\n",
       "      <th>4</th>\n",
       "      <td>5</td>\n",
       "      <td>I am a developer by profession</td>\n",
       "      <td>18-24 years old</td>\n",
       "      <td>Student, full-time</td>\n",
       "      <td>NaN</td>\n",
       "      <td>Apples</td>\n",
       "      <td>NaN</td>\n",
       "      <td>Secondary school (e.g. American high school, G...</td>\n",
       "      <td>Other online resources (e.g., videos, blogs, f...</td>\n",
       "      <td>Technical documentation;Blogs;Written Tutorial...</td>\n",
       "      <td>...</td>\n",
       "      <td>NaN</td>\n",
       "      <td>NaN</td>\n",
       "      <td>NaN</td>\n",
       "      <td>NaN</td>\n",
       "      <td>NaN</td>\n",
       "      <td>NaN</td>\n",
       "      <td>Too short</td>\n",
       "      <td>Easy</td>\n",
       "      <td>NaN</td>\n",
       "      <td>NaN</td>\n",
       "    </tr>\n",
       "  </tbody>\n",
       "</table>\n",
       "<p>5 rows × 114 columns</p>\n",
       "</div>"
      ],
      "text/plain": [
       "   ResponseId                      MainBranch                 Age  \\\n",
       "0           1  I am a developer by profession  Under 18 years old   \n",
       "1           2  I am a developer by profession     35-44 years old   \n",
       "2           3  I am a developer by profession     45-54 years old   \n",
       "3           4           I am learning to code     18-24 years old   \n",
       "4           5  I am a developer by profession     18-24 years old   \n",
       "\n",
       "            Employment RemoteWork   Check  \\\n",
       "0  Employed, full-time     Remote  Apples   \n",
       "1  Employed, full-time     Remote  Apples   \n",
       "2  Employed, full-time     Remote  Apples   \n",
       "3   Student, full-time        NaN  Apples   \n",
       "4   Student, full-time        NaN  Apples   \n",
       "\n",
       "                                    CodingActivities  \\\n",
       "0                                              Hobby   \n",
       "1  Hobby;Contribute to open-source projects;Other...   \n",
       "2  Hobby;Contribute to open-source projects;Other...   \n",
       "3                                                NaN   \n",
       "4                                                NaN   \n",
       "\n",
       "                                             EdLevel  \\\n",
       "0                          Primary/elementary school   \n",
       "1       Bachelor’s degree (B.A., B.S., B.Eng., etc.)   \n",
       "2    Master’s degree (M.A., M.S., M.Eng., MBA, etc.)   \n",
       "3  Some college/university study without earning ...   \n",
       "4  Secondary school (e.g. American high school, G...   \n",
       "\n",
       "                                           LearnCode  \\\n",
       "0                             Books / Physical media   \n",
       "1  Books / Physical media;Colleague;On the job tr...   \n",
       "2  Books / Physical media;Colleague;On the job tr...   \n",
       "3  Other online resources (e.g., videos, blogs, f...   \n",
       "4  Other online resources (e.g., videos, blogs, f...   \n",
       "\n",
       "                                     LearnCodeOnline  ... JobSatPoints_6  \\\n",
       "0                                                NaN  ...            NaN   \n",
       "1  Technical documentation;Blogs;Books;Written Tu...  ...            0.0   \n",
       "2  Technical documentation;Blogs;Books;Written Tu...  ...            NaN   \n",
       "3  Stack Overflow;How-to videos;Interactive tutorial  ...            NaN   \n",
       "4  Technical documentation;Blogs;Written Tutorial...  ...            NaN   \n",
       "\n",
       "  JobSatPoints_7 JobSatPoints_8 JobSatPoints_9 JobSatPoints_10  \\\n",
       "0            NaN            NaN            NaN             NaN   \n",
       "1            0.0            0.0            0.0             0.0   \n",
       "2            NaN            NaN            NaN             NaN   \n",
       "3            NaN            NaN            NaN             NaN   \n",
       "4            NaN            NaN            NaN             NaN   \n",
       "\n",
       "  JobSatPoints_11           SurveyLength SurveyEase ConvertedCompYearly JobSat  \n",
       "0             NaN                    NaN        NaN                 NaN    NaN  \n",
       "1             0.0                    NaN        NaN                 NaN    NaN  \n",
       "2             NaN  Appropriate in length       Easy                 NaN    NaN  \n",
       "3             NaN               Too long       Easy                 NaN    NaN  \n",
       "4             NaN              Too short       Easy                 NaN    NaN  \n",
       "\n",
       "[5 rows x 114 columns]"
      ]
     },
     "execution_count": 5,
     "metadata": {},
     "output_type": "execute_result"
    }
   ],
   "source": [
    "## Write your code here\n",
    "df.head()"
   ]
  },
  {
   "cell_type": "markdown",
   "id": "f432eb89-e6cf-42a9-a842-840f24e8d19b",
   "metadata": {},
   "source": [
    "## Find out the number of rows and columns\n"
   ]
  },
  {
   "cell_type": "markdown",
   "id": "5b2e6eae-1b8b-4ae9-a8a4-59c6153dabd2",
   "metadata": {},
   "source": [
    "Start by exploring the numbers of rows and columns of data in the dataset.\n"
   ]
  },
  {
   "cell_type": "markdown",
   "id": "b08524b5-1ac5-4da9-aedc-6595ce90e8c7",
   "metadata": {},
   "source": [
    "Print the number of rows in the dataset.\n"
   ]
  },
  {
   "cell_type": "code",
   "execution_count": 6,
   "id": "950af894-41e2-40c8-96aa-856278e0a466",
   "metadata": {},
   "outputs": [
    {
     "name": "stdout",
     "output_type": "stream",
     "text": [
      "65437\n"
     ]
    }
   ],
   "source": [
    "## Write your code here\n",
    "print(df.shape[0])"
   ]
  },
  {
   "cell_type": "markdown",
   "id": "9acf3ad3-d055-47b2-8fda-29c59d02f723",
   "metadata": {},
   "source": [
    "Print the number of columns in the dataset.\n"
   ]
  },
  {
   "cell_type": "code",
   "execution_count": 7,
   "id": "eea9aaaa-f7d1-49f8-aea4-16ad92e77c12",
   "metadata": {},
   "outputs": [
    {
     "name": "stdout",
     "output_type": "stream",
     "text": [
      "114\n"
     ]
    }
   ],
   "source": [
    "## Write your code here\n",
    "print(df.shape[1])"
   ]
  },
  {
   "cell_type": "markdown",
   "id": "8177fa73-34b9-42e3-a252-a20e29bd72cd",
   "metadata": {},
   "source": [
    "## Identify the data types of each column\n"
   ]
  },
  {
   "cell_type": "markdown",
   "id": "2f615916-db9f-4461-ad25-9ec04c1ca58a",
   "metadata": {},
   "source": [
    "Explore the dataset and identify the data types of each column.\n"
   ]
  },
  {
   "cell_type": "markdown",
   "id": "94bd44db-96c3-4576-b24d-42f81ca64592",
   "metadata": {},
   "source": [
    "Print the datatype of all columns.\n"
   ]
  },
  {
   "cell_type": "code",
   "execution_count": 8,
   "id": "db5b9d85-f83b-4a3e-8578-0bee2d25595b",
   "metadata": {},
   "outputs": [
    {
     "data": {
      "text/plain": [
       "ResponseId               int64\n",
       "MainBranch              object\n",
       "Age                     object\n",
       "Employment              object\n",
       "RemoteWork              object\n",
       "                        ...   \n",
       "JobSatPoints_11        float64\n",
       "SurveyLength            object\n",
       "SurveyEase              object\n",
       "ConvertedCompYearly    float64\n",
       "JobSat                 float64\n",
       "Length: 114, dtype: object"
      ]
     },
     "execution_count": 8,
     "metadata": {},
     "output_type": "execute_result"
    }
   ],
   "source": [
    "## Write your code here\n",
    "df.dtypes"
   ]
  },
  {
   "cell_type": "markdown",
   "id": "cc3092ca-63f2-4762-854f-b46a02d0b8ee",
   "metadata": {},
   "source": [
    "Print the mean age of the survey participants.\n"
   ]
  },
  {
   "cell_type": "code",
   "execution_count": 11,
   "metadata": {},
   "outputs": [
    {
     "name": "stdout",
     "output_type": "stream",
     "text": [
      "['Under 18 years old' '35-44 years old' '45-54 years old'\n",
      " '18-24 years old' '25-34 years old' '55-64 years old' 'Prefer not to say'\n",
      " '65 years or older']\n"
     ]
    }
   ],
   "source": [
    "print(df['Age'].unique())"
   ]
  },
  {
   "cell_type": "code",
   "execution_count": 12,
   "id": "9ece8b48-c838-43a5-b169-778d564a895f",
   "metadata": {},
   "outputs": [
    {
     "name": "stdout",
     "output_type": "stream",
     "text": [
      "The mean age is: 32.5\n"
     ]
    }
   ],
   "source": [
    "## Write your code here\n",
    "import numpy as np\n",
    "\n",
    "# Example data\n",
    "data = {'Age': ['Under 18 years old', '35-44 years old', '45-54 years old', \n",
    "                '18-24 years old', '25-34 years old', '55-64 years old', \n",
    "                'Prefer not to say', '65 years or older']}\n",
    "df = pd.DataFrame(data)\n",
    "\n",
    "# Function to calculate the midpoint of an age range\n",
    "def calculate_midpoint(age):\n",
    "    if 'years old' in age:\n",
    "        if '-' in age:\n",
    "            # Extract the lower and upper bounds\n",
    "            bounds = [int(x) for x in age.split('-') if x.isdigit()]\n",
    "            return np.mean(bounds)  # Calculate the midpoint\n",
    "        elif 'Under' in age:\n",
    "            return 17  # Assign a value for \"Under 18 years old\"\n",
    "        elif '65 years or older' in age:\n",
    "            return 65  # Assign a value for \"65 years or older\"\n",
    "    return np.nan  # Return NaN for \"Prefer not to say\"\n",
    "\n",
    "# Apply the function to the Age column\n",
    "df['Age_midpoint'] = df['Age'].apply(calculate_midpoint)\n",
    "\n",
    "# Calculate the mean of the midpoints, excluding NaN values\n",
    "mean_age = df['Age_midpoint'].mean()\n",
    "print(f\"The mean age is: {mean_age}\")"
   ]
  },
  {
   "cell_type": "markdown",
   "id": "d632815f-0998-478c-b499-528c4130747a",
   "metadata": {},
   "source": [
    "The dataset is the result of a world wide survey. Print how many unique countries are there in the Country column.\n"
   ]
  },
  {
   "cell_type": "code",
   "execution_count": 27,
   "id": "20bc4981-ef14-4f25-867e-98d7e05b1fdd",
   "metadata": {},
   "outputs": [
    {
     "name": "stdout",
     "output_type": "stream",
     "text": [
      "135\n"
     ]
    }
   ],
   "source": [
    "## Write your code here\n",
    "print(df['Country'].nunique())"
   ]
  },
  {
   "cell_type": "markdown",
   "id": "c5dda6e0-de5d-45d6-8066-98623c4b5ced",
   "metadata": {},
   "source": [
    "<!--\n",
    "## Change Log\n",
    "|Date (YYYY-MM-DD)|Version|Changed By|Change Description|\n",
    "|-|-|-|-|\n",
    "|2024-10-29|3.0|Madhusudhan|Updated lab|\n",
    "|2024-09-23|2.0|Madhusudhan|Updated lab|\n",
    "|2024-09-22|1.0|Raghul Ramesh|Created lab|\n",
    "--!>\n"
   ]
  },
  {
   "cell_type": "markdown",
   "id": "1338b7f0-806e-45d1-98c5-61bf8911f6cc",
   "metadata": {},
   "source": [
    "Copyright ©  IBM Corporation. All rights reserved.\n"
   ]
  }
 ],
 "metadata": {
  "kernelspec": {
   "display_name": "Python 3",
   "language": "python",
   "name": "python3"
  },
  "language_info": {
   "codemirror_mode": {
    "name": "ipython",
    "version": 3
   },
   "file_extension": ".py",
   "mimetype": "text/x-python",
   "name": "python",
   "nbconvert_exporter": "python",
   "pygments_lexer": "ipython3",
   "version": "3.12.9"
  },
  "prev_pub_hash": "bedd3aee3a13510f42e8f2d452448a778151a18ce4b7e4d854c4c56f9dea7a3b"
 },
 "nbformat": 4,
 "nbformat_minor": 4
}
